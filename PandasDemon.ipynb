{
  "nbformat": 4,
  "nbformat_minor": 0,
  "metadata": {
    "colab": {
      "provenance": [],
      "authorship_tag": "ABX9TyOlYPd8kmzbgMOY9MMuPNXl",
      "include_colab_link": true
    },
    "kernelspec": {
      "name": "python3",
      "display_name": "Python 3"
    },
    "language_info": {
      "name": "python"
    }
  },
  "cells": [
    {
      "cell_type": "markdown",
      "metadata": {
        "id": "view-in-github",
        "colab_type": "text"
      },
      "source": [
        "<a href=\"https://colab.research.google.com/github/ian293382/Python_Pandas_Numpy/blob/main/PandasDemon.ipynb\" target=\"_parent\"><img src=\"https://colab.research.google.com/assets/colab-badge.svg\" alt=\"Open In Colab\"/></a>"
      ]
    },
    {
      "cell_type": "code",
      "execution_count": 1,
      "metadata": {
        "colab": {
          "base_uri": "https://localhost:8080/"
        },
        "id": "XmzR_IoOkloH",
        "outputId": "77a8ab81-778a-435e-e5f5-4b2147cd95a3"
      },
      "outputs": [
        {
          "output_type": "stream",
          "name": "stdout",
          "text": [
            "0    1\n",
            "1    3\n",
            "2    5\n",
            "3    7\n",
            "4    9\n",
            "dtype: int64\n"
          ]
        }
      ],
      "source": [
        "!pip install pandas\n",
        "\n",
        "import pandas as pd\n",
        "\n",
        "s = pd.Series([1,3,5,7,9])\n",
        "\n",
        "print(s)"
      ]
    },
    {
      "cell_type": "code",
      "source": [
        "data = {\n",
        "    'name': ['Alice', 'Bob', 'Charlie', 'David'],\n",
        "    'age': [25, 32, 18, 47],\n",
        "    'city': ['New York', 'Paris', 'London', 'Berlin']\n",
        "}\n",
        "\n",
        "df = pd.DataFrame(data)\n",
        "\n",
        "print(df)"
      ],
      "metadata": {
        "colab": {
          "base_uri": "https://localhost:8080/"
        },
        "id": "6913oGhal-CA",
        "outputId": "28d8fdbf-dbd1-4d4d-dc8d-4258c0adf45a"
      },
      "execution_count": 4,
      "outputs": [
        {
          "output_type": "stream",
          "name": "stdout",
          "text": [
            "      name  age      city\n",
            "0    Alice   25  New York\n",
            "1      Bob   32     Paris\n",
            "2  Charlie   18    London\n",
            "3    David   47    Berlin\n"
          ]
        }
      ]
    },
    {
      "cell_type": "code",
      "source": [
        "print(df[['name', 'city']])"
      ],
      "metadata": {
        "colab": {
          "base_uri": "https://localhost:8080/"
        },
        "id": "z_3HbCnInEV_",
        "outputId": "8f7d88ab-5ea7-43bd-b76a-930bae389723"
      },
      "execution_count": 6,
      "outputs": [
        {
          "output_type": "stream",
          "name": "stdout",
          "text": [
            "      name      city\n",
            "0    Alice  New York\n",
            "1      Bob     Paris\n",
            "2  Charlie    London\n",
            "3    David    Berlin\n"
          ]
        }
      ]
    },
    {
      "cell_type": "code",
      "source": [
        "print(df[0:3])"
      ],
      "metadata": {
        "colab": {
          "base_uri": "https://localhost:8080/"
        },
        "id": "bWKKxxJ6nvm5",
        "outputId": "7072f479-2bf1-4085-80b5-89bfa960eaa0"
      },
      "execution_count": 7,
      "outputs": [
        {
          "output_type": "stream",
          "name": "stdout",
          "text": [
            "      name  age      city\n",
            "0    Alice   25  New York\n",
            "1      Bob   32     Paris\n",
            "2  Charlie   18    London\n"
          ]
        }
      ]
    },
    {
      "cell_type": "code",
      "source": [
        "df1 = pd.DataFrame(data)\n",
        "\n",
        "df1.set_index('name', inplace=True)\n",
        "\n",
        "result = df1.loc[['Alice', 'Charlie'], ['age', 'city']]\n",
        "\n",
        "print(result)"
      ],
      "metadata": {
        "colab": {
          "base_uri": "https://localhost:8080/"
        },
        "id": "84OU4IDboht5",
        "outputId": "3183d484-6fb6-46c4-f756-8069e4a3b758"
      },
      "execution_count": 11,
      "outputs": [
        {
          "output_type": "stream",
          "name": "stdout",
          "text": [
            "         age      city\n",
            "name                  \n",
            "Alice     25  New York\n",
            "Charlie   18    London\n"
          ]
        }
      ]
    },
    {
      "cell_type": "code",
      "source": [
        "print (df.sort_index())"
      ],
      "metadata": {
        "colab": {
          "base_uri": "https://localhost:8080/"
        },
        "id": "kObP6045ptd4",
        "outputId": "837e255f-5305-453a-a6f4-b70240e3fd6a"
      },
      "execution_count": 12,
      "outputs": [
        {
          "output_type": "stream",
          "name": "stdout",
          "text": [
            "      name  age      city\n",
            "0    Alice   25  New York\n",
            "1      Bob   32     Paris\n",
            "2  Charlie   18    London\n",
            "3    David   47    Berlin\n"
          ]
        }
      ]
    },
    {
      "cell_type": "code",
      "source": [
        "data2 = {\n",
        "    'name': ['Eva', 'Frank', 'Grace', 'Henry'],\n",
        "    'age': [29,23,37,31],\n",
        "    'city': ['Rome', 'Sydney', 'Tokyo', 'Moscow']\n",
        "}\n",
        "\n",
        "df2 = pd.DataFrame(data2)\n",
        "\n",
        "print(pd.concat([df, df2], axis=0))\n",
        "\n",
        "print(pd.concat([df, df2], axis=1))\n",
        "\n"
      ],
      "metadata": {
        "colab": {
          "base_uri": "https://localhost:8080/"
        },
        "id": "y4K0rApJp7yy",
        "outputId": "f0f9f1e8-827a-49f3-ed76-dd61c651d6ce"
      },
      "execution_count": 15,
      "outputs": [
        {
          "output_type": "stream",
          "name": "stdout",
          "text": [
            "      name  age      city\n",
            "0    Alice   25  New York\n",
            "1      Bob   32     Paris\n",
            "2  Charlie   18    London\n",
            "3    David   47    Berlin\n",
            "0      Eva   29      Rome\n",
            "1    Frank   23    Sydney\n",
            "2    Grace   37     Tokyo\n",
            "3    Henry   31    Moscow\n",
            "      name  age      city   name  age    city\n",
            "0    Alice   25  New York    Eva   29    Rome\n",
            "1      Bob   32     Paris  Frank   23  Sydney\n",
            "2  Charlie   18    London  Grace   37   Tokyo\n",
            "3    David   47    Berlin  Henry   31  Moscow\n"
          ]
        }
      ]
    },
    {
      "cell_type": "code",
      "source": [
        "data1 ={\n",
        "    'name':['Alice', 'Bob', 'Chalie', 'David'],\n",
        "    'salary': [5000, 6000, 7000, 8000]\n",
        "}\n",
        "\n",
        "df1 = pd.DataFrame(data1)\n",
        "\n",
        "print(pd.merge(df, df1, on='name'))\n",
        "\n",
        "data3 = {\n",
        "    'salary': [5000,6000, 7000, 8000]\n",
        "}\n",
        "\n",
        "df3 = pd.DataFrame(data3)\n",
        "print(df.join(df3))"
      ],
      "metadata": {
        "colab": {
          "base_uri": "https://localhost:8080/"
        },
        "id": "24WYu1hwrFFv",
        "outputId": "4beff666-2d2c-4831-dcdc-dc2c7d5f779d"
      },
      "execution_count": 25,
      "outputs": [
        {
          "output_type": "stream",
          "name": "stdout",
          "text": [
            "    name  age      city  salary\n",
            "0  Alice   25  New York    5000\n",
            "1    Bob   32     Paris    6000\n",
            "2  David   47    Berlin    8000\n",
            "      name  age      city  salary\n",
            "0    Alice   25  New York    5000\n",
            "1      Bob   32     Paris    6000\n",
            "2  Charlie   18    London    7000\n",
            "3    David   47    Berlin    8000\n"
          ]
        }
      ]
    }
  ]
}