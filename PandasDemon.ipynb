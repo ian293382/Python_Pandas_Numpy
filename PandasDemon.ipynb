{
  "nbformat": 4,
  "nbformat_minor": 0,
  "metadata": {
    "colab": {
      "provenance": [],
      "authorship_tag": "ABX9TyPiQutSz2oB1qRP1XuhVWEH",
      "include_colab_link": true
    },
    "kernelspec": {
      "name": "python3",
      "display_name": "Python 3"
    },
    "language_info": {
      "name": "python"
    }
  },
  "cells": [
    {
      "cell_type": "markdown",
      "metadata": {
        "id": "view-in-github",
        "colab_type": "text"
      },
      "source": [
        "<a href=\"https://colab.research.google.com/github/ian293382/Python_Pandas_Numpy/blob/main/PandasDemon.ipynb\" target=\"_parent\"><img src=\"https://colab.research.google.com/assets/colab-badge.svg\" alt=\"Open In Colab\"/></a>"
      ]
    },
    {
      "cell_type": "code",
      "execution_count": 1,
      "metadata": {
        "colab": {
          "base_uri": "https://localhost:8080/"
        },
        "id": "XmzR_IoOkloH",
        "outputId": "77a8ab81-778a-435e-e5f5-4b2147cd95a3"
      },
      "outputs": [
        {
          "output_type": "stream",
          "name": "stdout",
          "text": [
            "0    1\n",
            "1    3\n",
            "2    5\n",
            "3    7\n",
            "4    9\n",
            "dtype: int64\n"
          ]
        }
      ],
      "source": [
        "!pip install pandas\n",
        "\n",
        "import pandas as pd\n",
        "\n",
        "s = pd.Series([1,3,5,7,9])\n",
        "\n",
        "print(s)"
      ]
    },
    {
      "cell_type": "code",
      "source": [
        "data = {\n",
        "    'name': ['Alice', 'Bob', 'Charlie', 'David'],\n",
        "    'age': [25, 32, 18, 47],\n",
        "    'city': ['New York', 'Paris', 'London', 'Berlin']\n",
        "}\n",
        "\n",
        "df = pd.DataFrame(data)\n",
        "\n",
        "print(df)"
      ],
      "metadata": {
        "colab": {
          "base_uri": "https://localhost:8080/"
        },
        "id": "6913oGhal-CA",
        "outputId": "adf69882-f855-41ed-8d33-e24f4346ec9e"
      },
      "execution_count": 2,
      "outputs": [
        {
          "output_type": "stream",
          "name": "stdout",
          "text": [
            "      name  age      city\n",
            "0    Alice   25  New York\n",
            "1      Bob   32     Paris\n",
            "2  Charlie   18    London\n",
            "3    David   47    Berlin\n"
          ]
        }
      ]
    },
    {
      "cell_type": "code",
      "source": [
        "print(df['name'])"
      ],
      "metadata": {
        "colab": {
          "base_uri": "https://localhost:8080/"
        },
        "id": "z_3HbCnInEV_",
        "outputId": "dc128a86-27f8-4912-d5fd-cd2ce99593a2"
      },
      "execution_count": 3,
      "outputs": [
        {
          "output_type": "stream",
          "name": "stdout",
          "text": [
            "0      Alice\n",
            "1        Bob\n",
            "2    Charlie\n",
            "3      David\n",
            "Name: name, dtype: object\n"
          ]
        }
      ]
    }
  ]
}