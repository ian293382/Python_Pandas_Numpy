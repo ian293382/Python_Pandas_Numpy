{
  "nbformat": 4,
  "nbformat_minor": 0,
  "metadata": {
    "colab": {
      "provenance": [],
      "authorship_tag": "ABX9TyPBB0WlklWUGbqrqEGkb6/w",
      "include_colab_link": true
    },
    "kernelspec": {
      "name": "python3",
      "display_name": "Python 3"
    },
    "language_info": {
      "name": "python"
    }
  },
  "cells": [
    {
      "cell_type": "markdown",
      "metadata": {
        "id": "view-in-github",
        "colab_type": "text"
      },
      "source": [
        "<a href=\"https://colab.research.google.com/github/ian293382/Python_Pandas_Numpy/blob/main/Task02_1.ipynb\" target=\"_parent\"><img src=\"https://colab.research.google.com/assets/colab-badge.svg\" alt=\"Open In Colab\"/></a>"
      ]
    },
    {
      "cell_type": "code",
      "execution_count": 12,
      "metadata": {
        "colab": {
          "base_uri": "https://localhost:8080/"
        },
        "id": "kf1_tRnJw-1n",
        "outputId": "5add1cea-1e80-48fc-8950-aaf859a9f64b"
      },
      "outputs": [
        {
          "output_type": "stream",
          "name": "stdout",
          "text": [
            "     0   1   2   3\n",
            "0   35  39  12  35\n",
            "2   31  20  10  18\n",
            "3   37  28  31  18\n",
            "5   29  17  22  30\n",
            "8   38  29  14  15\n",
            "10  38  28  16  16\n",
            "11  28  38  26  15\n",
            "12  33  30  10  20\n",
            "13  28  27  31  17\n",
            "14  23  16  32  31\n"
          ]
        }
      ],
      "source": [
        "import pandas as pd\n",
        "import numpy as np\n",
        "\n",
        "# 10~40內取個60個整數 在-1~4行\n",
        "df = pd.DataFrame(np.random.randint(10, 40, 60).reshape(-1, 4))\n",
        "\n",
        "\n",
        "# filtered by first column > 20 篩選大於20數值\n",
        "mask1 = df[0] > 20\n",
        "print(df[mask1])\n",
        "\n"
      ]
    },
    {
      "cell_type": "code",
      "source": [
        "# filtered by first column + second column > 50\n",
        "mask2 = df[0]+df[1] > 50\n",
        "print(df[mask2])\n"
      ],
      "metadata": {
        "colab": {
          "base_uri": "https://localhost:8080/"
        },
        "id": "1UhVxWn80gCg",
        "outputId": "65d8100e-c65d-4080-a26c-957ee59335e2"
      },
      "execution_count": 13,
      "outputs": [
        {
          "output_type": "stream",
          "name": "stdout",
          "text": [
            "     0   1   2   3\n",
            "0   35  39  12  35\n",
            "2   31  20  10  18\n",
            "3   37  28  31  18\n",
            "8   38  29  14  15\n",
            "10  38  28  16  16\n",
            "11  28  38  26  15\n",
            "12  33  30  10  20\n",
            "13  28  27  31  17\n"
          ]
        }
      ]
    },
    {
      "cell_type": "code",
      "source": [
        "# filtered by first column < 30 or second column > 30\n",
        "\n",
        "mask3 = df[0] < 30\n",
        "\n",
        "mask4 = df[1] > 30\n",
        "\n",
        "total_mask = mask3 & mask4\n",
        "print(df[total_mask])"
      ],
      "metadata": {
        "colab": {
          "base_uri": "https://localhost:8080/"
        },
        "id": "Rmlkjeqp01lW",
        "outputId": "77bb3a80-8032-4e54-a519-c18ba41e1098"
      },
      "execution_count": 30,
      "outputs": [
        {
          "output_type": "stream",
          "name": "stdout",
          "text": [
            "     0   1   2   3\n",
            "4   14  36  39  30\n",
            "9   17  32  34  37\n",
            "11  28  38  26  15\n"
          ]
        }
      ]
    },
    {
      "cell_type": "code",
      "source": [
        "# filter by total sum of row > 100\n",
        "mask5 = df.sum(axis=1) > 100\n",
        "print(df[mask4])"
      ],
      "metadata": {
        "colab": {
          "base_uri": "https://localhost:8080/"
        },
        "id": "8zZPEhWZ32vq",
        "outputId": "7364bc4d-c111-40c0-9d3a-51b06361eafb"
      },
      "execution_count": 38,
      "outputs": [
        {
          "output_type": "stream",
          "name": "stdout",
          "text": [
            "     0   1   2   3\n",
            "0   35  39  12  35\n",
            "4   14  36  39  30\n",
            "9   17  32  34  37\n",
            "11  28  38  26  15\n"
          ]
        }
      ]
    }
  ]
}