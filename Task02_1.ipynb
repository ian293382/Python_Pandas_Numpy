{
  "nbformat": 4,
  "nbformat_minor": 0,
  "metadata": {
    "colab": {
      "provenance": [],
      "authorship_tag": "ABX9TyNwzQMzFcZqox0J8f604q+2",
      "include_colab_link": true
    },
    "kernelspec": {
      "name": "python3",
      "display_name": "Python 3"
    },
    "language_info": {
      "name": "python"
    }
  },
  "cells": [
    {
      "cell_type": "markdown",
      "metadata": {
        "id": "view-in-github",
        "colab_type": "text"
      },
      "source": [
        "<a href=\"https://colab.research.google.com/github/ian293382/Python_Pandas_Numpy/blob/main/Task02_1.ipynb\" target=\"_parent\"><img src=\"https://colab.research.google.com/assets/colab-badge.svg\" alt=\"Open In Colab\"/></a>"
      ]
    },
    {
      "cell_type": "code",
      "execution_count": 10,
      "metadata": {
        "colab": {
          "base_uri": "https://localhost:8080/"
        },
        "id": "kf1_tRnJw-1n",
        "outputId": "54ad92c5-fe30-4f6f-ca02-f5c677dab936"
      },
      "outputs": [
        {
          "output_type": "stream",
          "name": "stdout",
          "text": [
            "     0   1   2   3\n",
            "0   24  22  16  34\n",
            "3   26  32  33  18\n",
            "4   21  28  26  36\n",
            "6   27  25  23  32\n",
            "7   32  18  28  25\n",
            "8   26  11  32  34\n",
            "9   37  25  13  13\n",
            "10  28  37  12  32\n",
            "11  29  30  26  36\n",
            "13  23  20  37  37\n",
            "14  24  29  30  21\n"
          ]
        }
      ],
      "source": [
        "import pandas as pd\n",
        "import numpy as np\n",
        "\n",
        "# 10~40內取個60個整數 在-1~4行\n",
        "df = pd.DataFrame(np.random.randint(10, 40, 60).reshape(-1, 4))\n",
        "\n",
        "\n",
        "# filtered by first column > 20 篩選大於20數值\n",
        "mask1 = df[0] > 20\n",
        "print(df[mask1])\n",
        "\n"
      ]
    }
  ]
}