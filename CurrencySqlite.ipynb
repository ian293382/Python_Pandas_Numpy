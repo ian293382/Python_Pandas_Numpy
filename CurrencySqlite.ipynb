{
  "nbformat": 4,
  "nbformat_minor": 0,
  "metadata": {
    "colab": {
      "provenance": [],
      "authorship_tag": "ABX9TyNw0A9D+fktpI1OmDU+Ltpk",
      "include_colab_link": true
    },
    "kernelspec": {
      "name": "python3",
      "display_name": "Python 3"
    },
    "language_info": {
      "name": "python"
    }
  },
  "cells": [
    {
      "cell_type": "markdown",
      "metadata": {
        "id": "view-in-github",
        "colab_type": "text"
      },
      "source": [
        "<a href=\"https://colab.research.google.com/github/ian293382/Python_Pandas_Numpy/blob/main/CurrencySqlite.ipynb\" target=\"_parent\"><img src=\"https://colab.research.google.com/assets/colab-badge.svg\" alt=\"Open In Colab\"/></a>"
      ]
    },
    {
      "cell_type": "code",
      "execution_count": 10,
      "metadata": {
        "colab": {
          "base_uri": "https://localhost:8080/"
        },
        "id": "6Z4oECTqNe2X",
        "outputId": "b0265cbf-5483-47ac-b4b0-c9297ce33e4d"
      },
      "outputs": [
        {
          "output_type": "stream",
          "name": "stdout",
          "text": [
            "2024/05/28\n",
            "   幣別 currency   現金本行買入  現金本行賣出   即期本行買入  即期本行賣出          時間\n",
            "0     美金 (USD)    31.78    32.45  32.105  32.255  2024/05/28\n",
            "1     港幣 (HKD)    3.966     4.17   4.087   4.157  2024/05/28\n",
            "2     英鎊 (GBP)    39.92    42.04  40.815  41.445  2024/05/28\n",
            "3     澳幣 (AUD)    21.04    21.82  21.255    21.6  2024/05/28\n",
            "4   加拿大幣 (CAD)    23.11    24.02   23.44   23.77  2024/05/28\n",
            "5   新加坡幣 (SGD)    23.28    24.19   23.75   23.97  2024/05/28\n",
            "6   瑞士法郎 (CHF)    34.43    35.63   35.04   35.43  2024/05/28\n",
            "7     日圓 (JPY)    0.196   0.2088  0.2028  0.2078  2024/05/28\n",
            "8    南非幣 (ZAR)        -        -    1.71     1.8  2024/05/28\n",
            "9    瑞典幣 (SEK)     2.65     3.17    2.98     3.1  2024/05/28\n",
            "10    紐元 (NZD)    19.31    20.16   19.64   19.94  2024/05/28\n",
            "11    泰幣 (THB)   0.7525   0.9425  0.8619  0.9079  2024/05/28\n",
            "12  菲國比索 (PHP)   0.4872   0.6192       -       -  2024/05/28\n",
            "13   印尼幣 (IDR)  0.00168  0.00238       -       -  2024/05/28\n",
            "14    歐元 (EUR)    34.13    35.47  34.645  35.245  2024/05/28\n",
            "15    韓元 (KRW)  0.02189  0.02579       -       -  2024/05/28\n",
            "16   越南盾 (VND)  0.00102  0.00143       -       -  2024/05/28\n",
            "17   馬來幣 (MYR)    5.809    7.329       -       -  2024/05/28\n",
            "18   人民幣 (CNY)    4.338      4.5   4.405   4.465  2024/05/28\n"
          ]
        }
      ],
      "source": [
        "#練習：台灣銀行牌告利率提供了每日的外幣匯率價格，包含美金、港幣、英鎊等；請試著撰寫爬蟲程式將台灣銀行牌告利率的資訊抓下來，並且整理成 Pandas 中的 DataFrame 格式。\n",
        "\n",
        "# ❏ Sample Input：https://rate.bot.com.tw/xrt?Lang=zh-TW（資料來源：台灣銀行牌告利率 ）\n",
        "\n",
        "# ❏ Sample Output：將外幣對台幣匯率整理成 DataFrame\n",
        "\n",
        "# ❏ Sample Code：\n",
        "\n",
        "import requests\n",
        "import pandas as pd\n",
        "import numpy as np\n",
        "from bs4 import BeautifulSoup\n",
        "\n",
        "url = 'https://rate.bot.com.tw/xrt?Lang=zh-TW'\n",
        "\n",
        "res = requests.get(url)\n",
        "\n",
        "first_response = BeautifulSoup(res.text, features=\"html.parser\")\n",
        "\n",
        "# 抓日期\n",
        "date_class = first_response.find('p', class_='text-info')\n",
        "date = date_class.find('span', class_='time').text.strip().split(' ')[0]\n",
        "print(date)\n",
        "\n",
        "\n",
        "# 抓到表格了\n",
        "# table = first_response.find_all('table', class_='table')\n",
        "table = first_response.find('table')\n",
        "\n",
        "# table.tr 可以直接拆掉外層的Table\n",
        "# print(filter)\n",
        "\n",
        "currency_elements = table.find_all('div',class_='xrt-cur-indent')\n",
        "\n",
        "# print(table.find_all('div',class_='xrt-cur-indent'))\n",
        "\n",
        "# 卡在這邊 如何把資料放進去array\n",
        "currency_list = [div.text.strip() for div in currency_elements]\n",
        "\n",
        "# table.find_all('tr' , 'data-table'=='本行現金賣出' ) 這樣可以抓到第二 column 資料 誤解\n",
        "#  [data.text.strip() for data in a] 之後會有一堆 \\n \\p 代表你沒拆好裡面還有表格資料 不是最底層\n",
        "\n",
        "\n",
        "# sale_out_elements = table.find_all('td' , class_=\"rate-content-cash\")\n",
        "# 如果你使用的 text.strip()之後有\n",
        "# 這樣幹會出現 0 2 4 = 買入 , 1 3 5 = 賣出\n",
        "# sale_out_elements = table.find_all('td' , {'data-table':\"本行現金賣出\"}) 會抓到兩籃數據 確定有分別 現金匯率 即期匯率就不用額外寫\n",
        "\n",
        "sale_cash_elements = table.find_all('td' , { 'data-table':\"本行現金賣出\", 'class':'display_none_print_show' })\n",
        "sale_cash_list = [data.text.strip() for data in sale_cash_elements]\n",
        "\n",
        "buy_cash_elements = table.find_all('td', { 'data-table': '本行現金買入', 'class':'display_none_print_show' })\n",
        "buy_cash_list = [data.text.strip() for data in buy_cash_elements]\n",
        "\n",
        "buy_spot_elements = table.find_all('td', { 'data-table': '本行即期買入', 'class':'display_none_print_show' })\n",
        "buy_spot_list = [data.text.strip() for data in buy_spot_elements]\n",
        "\n",
        "sale_spot_elements = table.find_all('td', { 'data-table': '本行即期賣出', 'class':'display_none_print_show' })\n",
        "sale_spot_list = [data.text.strip() for data in sale_spot_elements]\n",
        "\n",
        "result = pd.DataFrame({\n",
        "    '幣別 currency': currency_list,\n",
        "    '現金本行買入': buy_cash_list,\n",
        "    '現金本行賣出 ': sale_cash_list,\n",
        "    '即期本行買入': buy_spot_list,\n",
        "    '即期本行賣出': sale_spot_list,\n",
        "    '時間': date\n",
        "})\n",
        "\n",
        "print(result)\n",
        "\n"
      ]
    },
    {
      "cell_type": "code",
      "source": [
        "import sqlite3\n",
        "\n",
        "conn = sqlite3.connect('test.db')\n",
        "conn.execute('''CREATE TABLE IF NOT EXISTS currencyrates\n",
        "             (id INTEGER PRIMARY KEY,\n",
        "              currency TEXT NOT NULL,\n",
        "              buy_cash_rate  DECIMAL(10,5),\n",
        "              sale_cash_rate DECIMAL(10,5),\n",
        "              buy_spot_list DECIMAL(10,5),\n",
        "              sale_spot_list DECIMAL(10,5),\n",
        "              date DATE\n",
        "             );''')\n",
        "# 創建指令\n",
        "conn.commit()\n",
        "# 將 DataFrame 插入到 SQLite 表中\n",
        "result.to_sql('currency_rates', conn, if_exists='append', index=False)\n",
        "\n",
        "query = \"SELECT * FROM currency_rates\"\n",
        "df = pd.read_sql_query(query, conn)\n",
        "\n",
        "print(df)\n",
        "conn.close()"
      ],
      "metadata": {
        "colab": {
          "base_uri": "https://localhost:8080/"
        },
        "id": "CQl1ZCa2UBgr",
        "outputId": "91e3fc88-53bd-414a-c36a-44a6bd81a4f2"
      },
      "execution_count": 18,
      "outputs": [
        {
          "output_type": "stream",
          "name": "stdout",
          "text": [
            "   幣別 currency   現金本行買入  現金本行賣出   即期本行買入  即期本行賣出          時間\n",
            "0     美金 (USD)    31.78    32.45  32.105  32.255  2024/05/28\n",
            "1     港幣 (HKD)    3.966     4.17   4.087   4.157  2024/05/28\n",
            "2     英鎊 (GBP)    39.92    42.04  40.815  41.445  2024/05/28\n",
            "3     澳幣 (AUD)    21.04    21.82  21.255    21.6  2024/05/28\n",
            "4   加拿大幣 (CAD)    23.11    24.02   23.44   23.77  2024/05/28\n",
            "..         ...      ...      ...     ...     ...         ...\n",
            "71    歐元 (EUR)    34.13    35.47  34.645  35.245  2024/05/28\n",
            "72    韓元 (KRW)  0.02189  0.02579       -       -  2024/05/28\n",
            "73   越南盾 (VND)  0.00102  0.00143       -       -  2024/05/28\n",
            "74   馬來幣 (MYR)    5.809    7.329       -       -  2024/05/28\n",
            "75   人民幣 (CNY)    4.338      4.5   4.405   4.465  2024/05/28\n",
            "\n",
            "[76 rows x 6 columns]\n"
          ]
        }
      ]
    }
  ]
}