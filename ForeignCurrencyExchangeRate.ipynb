{
  "nbformat": 4,
  "nbformat_minor": 0,
  "metadata": {
    "colab": {
      "provenance": [],
      "authorship_tag": "ABX9TyMmqdMshq3d2ebpioX+W5di",
      "include_colab_link": true
    },
    "kernelspec": {
      "name": "python3",
      "display_name": "Python 3"
    },
    "language_info": {
      "name": "python"
    }
  },
  "cells": [
    {
      "cell_type": "markdown",
      "metadata": {
        "id": "view-in-github",
        "colab_type": "text"
      },
      "source": [
        "<a href=\"https://colab.research.google.com/github/ian293382/Python_Pandas_Numpy/blob/main/ForeignCurrencyExchangeRate.ipynb\" target=\"_parent\"><img src=\"https://colab.research.google.com/assets/colab-badge.svg\" alt=\"Open In Colab\"/></a>"
      ]
    },
    {
      "cell_type": "code",
      "execution_count": null,
      "metadata": {
        "id": "pt8Eqlo5QrRz"
      },
      "outputs": [],
      "source": [
        "#練習：台灣銀行牌告利率提供了每日的外幣匯率價格，包含美金、港幣、英鎊等；請試著撰寫爬蟲程式將台灣銀行牌告利率的資訊抓下來，並且整理成 Pandas 中的 DataFrame 格式。\n",
        "\n",
        "# ❏ Sample Input：https://rate.bot.com.tw/xrt?Lang=zh-TW（資料來源：台灣銀行牌告利率 ）\n",
        "\n",
        "# ❏ Sample Output：將外幣對台幣匯率整理成 DataFrame\n",
        "\n",
        "# ❏ Sample Code：\n",
        "\n",
        "import requests\n",
        "import pandas as pd\n",
        "import numpy as np\n",
        "from bs4 import BeautifulSoup\n",
        "\n",
        "url = 'https://rate.bot.com.tw/xrt?Lang=zh-TW'\n",
        "\n",
        "res = requests.get(url)\n",
        "\n",
        "first_response = BeautifulSoup(res.text, features=\"html.parser\")\n",
        "\n",
        "# 抓到表格了\n",
        "# table = first_response.find_all('table', class_='table')\n",
        "table = first_response.find('table')\n",
        "\n",
        "# table.tr 可以直接拆掉外層的Table\n",
        "# print(filter)\n",
        "\n",
        "currency_elements = table.find_all('div',class_='xrt-cur-indent')\n",
        "\n",
        "print(table.find_all('div',class_='xrt-cur-indent'))\n",
        "\n",
        "# 卡在這邊 如何把資料放進去array\n",
        "currency_list = [div.text.strip() for div in currency_elements]\n",
        "\n",
        "# table.find_all('tr' , 'data-table'=='本行現金賣出' ) 這樣可以抓到第二 column 資料 誤解\n",
        "#  [data.text.strip() for data in a] 之後會有一堆 \\n \\p 代表你沒拆好裡面還有表格資料 不是最底層\n",
        "\n",
        "\n",
        "# sale_out_elements = table.find_all('td' , class_=\"rate-content-cash\")\n",
        "# 如果你使用的 text.strip()之後有\n",
        "# 這樣幹會出現 0 2 4 = 買入 , 1 3 5 = 賣出\n",
        "# sale_out_elements = table.find_all('td' , {'data-table':\"本行現金賣出\"}) 會抓到兩籃數據 確定有分別 現金匯率 即期匯率就不用額外寫\n",
        "\n",
        "sale_cash_elements = table.find_all('td' , { 'data-table':\"本行現金賣出\", 'class':'display_none_print_show' })\n",
        "sale_cash_list = [data.text.strip() for data in sale_cash_elements]\n",
        "\n",
        "buy_cash_elements = table.find_all('td', { 'data-table': '本行現金買入', 'class':'display_none_print_show' })\n",
        "buy_cash_list = [data.text.strip() for data in buy_cash_elements]\n",
        "\n",
        "buy_spot_elements = table.find_all('td', { 'data-table': '本行即期買入', 'class':'display_none_print_show' })\n",
        "buy_spot_list = [data.text.strip() for data in buy_spot_elements]\n",
        "\n",
        "sale_spot_elements = table.find_all('td', { 'data-table': '本行即期賣出', 'class':'display_none_print_show' })\n",
        "sale_spot_list = [data.text.strip() for data in sale_spot_elements]\n",
        "\n",
        "result = pd.DataFrame({\n",
        "    '幣別 currency': currency_list,\n",
        "    '現金本行買入': buy_cash_list,\n",
        "    '現金本行賣出 ': sale_cash_list,\n",
        "    '即期本行買入': buy_spot_list,\n",
        "    '即期本行賣出': sale_spot_list,\n",
        "})\n",
        "\n",
        "print(result)"
      ]
    }
  ]
}