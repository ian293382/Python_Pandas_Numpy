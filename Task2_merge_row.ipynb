{
  "nbformat": 4,
  "nbformat_minor": 0,
  "metadata": {
    "colab": {
      "provenance": [],
      "authorship_tag": "ABX9TyM6pIMRiTMGpgVaAqgZjeVj",
      "include_colab_link": true
    },
    "kernelspec": {
      "name": "python3",
      "display_name": "Python 3"
    },
    "language_info": {
      "name": "python"
    }
  },
  "cells": [
    {
      "cell_type": "markdown",
      "metadata": {
        "id": "view-in-github",
        "colab_type": "text"
      },
      "source": [
        "<a href=\"https://colab.research.google.com/github/ian293382/Python_Pandas_Numpy/blob/main/Task2_merge_row.ipynb\" target=\"_parent\"><img src=\"https://colab.research.google.com/assets/colab-badge.svg\" alt=\"Open In Colab\"/></a>"
      ]
    },
    {
      "cell_type": "code",
      "execution_count": 52,
      "metadata": {
        "colab": {
          "base_uri": "https://localhost:8080/"
        },
        "id": "RQ83OPST_52M",
        "outputId": "c564b177-df20-49ee-d9f7-cd6286e90062"
      },
      "outputs": [
        {
          "output_type": "stream",
          "name": "stdout",
          "text": [
            "     city  visitor weekday\n",
            "0  Austin      139     Sun\n",
            "1  Dallas      237     Sun\n",
            "2  Austin      326     Mon\n",
            "3  Dallas      456     Mon\n",
            "         visitor\n",
            "weekday         \n",
            "Mon          782\n",
            "Sun          376\n",
            "weekday\n",
            "Sun    376\n",
            "Mon    782\n",
            "Name: visitor, dtype: int64\n"
          ]
        }
      ],
      "source": [
        "# 練習：請利用 Pandas 計算給定的資料中不同 weekday 的 visitor 總和為何？\n",
        "#  Sample Output: { 'Sun': 376, 'Mon': 782 }\n",
        "\n",
        "import pandas as pd\n",
        "import numpy as np\n",
        "\n",
        "d = [\n",
        "    {'city': 'Austin', 'visitor': 139, 'weekday': 'Sun'},\n",
        "    {'city': 'Dallas', 'visitor': 237, 'weekday': 'Sun'},\n",
        "    {'city': 'Austin', 'visitor': 326, 'weekday': 'Mon'},\n",
        "    {'city': 'Dallas', 'visitor': 456, 'weekday': 'Mon'}\n",
        "]\n",
        "\n",
        "# 內有多筆資料 groupby 但要先做之前要先經過DataFrame 因為本身是list\n",
        "\n",
        "df = pd.DataFrame(d)\n",
        "\n",
        "print(df)\n",
        "# sorted by weekday\n",
        "\n",
        "grouped = df.groupby('weekday')\n",
        "\n",
        "# sum the mount of visitors in every group of weekday\n",
        "\n",
        "result = grouped.agg({'visitor' : 'sum'})\n",
        "\n",
        "print(result)\n",
        "\n",
        "# OR my result\n",
        "\n",
        "result1 = df.groupby('weekday', sort=True)['visitor'].sum()\n",
        "\n",
        "print(result1)\n"
      ]
    },
    {
      "cell_type": "code",
      "source": [],
      "metadata": {
        "id": "EHKKi5r7DpVH"
      },
      "execution_count": null,
      "outputs": []
    }
  ]
}