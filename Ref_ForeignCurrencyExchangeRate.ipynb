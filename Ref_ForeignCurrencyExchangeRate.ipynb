{
  "nbformat": 4,
  "nbformat_minor": 0,
  "metadata": {
    "colab": {
      "provenance": [],
      "authorship_tag": "ABX9TyMdBURQ+3N/LJmweDfi6e7l",
      "include_colab_link": true
    },
    "kernelspec": {
      "name": "python3",
      "display_name": "Python 3"
    },
    "language_info": {
      "name": "python"
    }
  },
  "cells": [
    {
      "cell_type": "markdown",
      "metadata": {
        "id": "view-in-github",
        "colab_type": "text"
      },
      "source": [
        "<a href=\"https://colab.research.google.com/github/ian293382/Python_Pandas_Numpy/blob/main/Ref_ForeignCurrencyExchangeRate.ipynb\" target=\"_parent\"><img src=\"https://colab.research.google.com/assets/colab-badge.svg\" alt=\"Open In Colab\"/></a>"
      ]
    },
    {
      "cell_type": "code",
      "execution_count": 1,
      "metadata": {
        "colab": {
          "base_uri": "https://localhost:8080/"
        },
        "id": "7xJZ5ZmC1niT",
        "outputId": "b2e5ec01-4ba2-4b5e-d931-6a6fc56bfea7"
      },
      "outputs": [
        {
          "output_type": "stream",
          "name": "stdout",
          "text": [
            "      Currency Buy Cash Rate Sell Cash Rate Buy Spot Rate Sell Spot Rate\n",
            "0     美金 (USD)         31.78          32.45        32.105          32.45\n",
            "1     港幣 (HKD)         3.966           4.17         4.087           4.17\n",
            "2     英鎊 (GBP)         39.86          41.98        40.755          41.98\n",
            "3     澳幣 (AUD)         21.01          21.79        21.225          21.79\n",
            "4   加拿大幣 (CAD)         23.07          23.98          23.4          23.98\n",
            "5   新加坡幣 (SGD)         23.28          24.19         23.75          24.19\n",
            "6   瑞士法郎 (CHF)         34.43          35.63         35.04          35.63\n",
            "7     日圓 (JPY)         0.196         0.2088        0.2028         0.2088\n",
            "8    南非幣 (ZAR)             -              -         1.705              -\n",
            "9    瑞典幣 (SEK)          2.64           3.16          2.97           3.16\n",
            "10    紐元 (NZD)          19.3          20.15         19.63          20.15\n",
            "11    泰幣 (THB)        0.7511         0.9411        0.8605         0.9411\n",
            "12  菲國比索 (PHP)        0.4872         0.6192             -         0.6192\n",
            "13   印尼幣 (IDR)       0.00168        0.00238             -        0.00238\n",
            "14    歐元 (EUR)         34.16           35.5        34.675           35.5\n",
            "15    韓元 (KRW)       0.02189        0.02579             -        0.02579\n",
            "16   越南盾 (VND)       0.00102        0.00143             -        0.00143\n",
            "17   馬來幣 (MYR)         5.809          7.329             -          7.329\n",
            "18   人民幣 (CNY)         4.338            4.5         4.405            4.5\n"
          ]
        }
      ],
      "source": [
        "from bs4 import BeautifulSoup\n",
        "import requests\n",
        "import pandas as pd\n",
        "\n",
        "# 發送GET請求至網頁\n",
        "r = requests.get('https://rate.bot.com.tw/xrt?Lang=zh-TW')\n",
        "\n",
        "# 解析HTML內容\n",
        "soup = BeautifulSoup(r.text,'html.parser')\n",
        "\n",
        "# 尋找包含匯率的表格\n",
        "table = soup.find('table',class_='table table-striped table-bordered table-condensed table-hover')\n",
        "\n",
        "# 初始化列表\n",
        "currency_names = []\n",
        "buy_cash_rates = []\n",
        "sell_cash_rates = []\n",
        "buy_spot_rates = []\n",
        "sell_spot_rates = []\n",
        "\n",
        "# 從表格行中提取數據\n",
        "for row in table.find_all('tr'):\n",
        "    columns = row.find_all('td')\n",
        "    if len(columns) >=5: #確保不處理標題行\n",
        "        currency_name = columns[0].find('div',class_='visible-phone').text.strip()\n",
        "        buy_cash_rate = columns[1].text.strip()\n",
        "        sell_cash_rate = columns[2].text.strip()\n",
        "        buy_spot_rate = columns[3].text.strip()\n",
        "        sell_spot_rate = columns[4].text.strip()\n",
        "        currency_names.append(currency_name)\n",
        "        buy_cash_rates.append(buy_cash_rate)\n",
        "        sell_cash_rates.append(sell_cash_rate)\n",
        "        buy_spot_rates.append(buy_spot_rate)\n",
        "        sell_spot_rates.append(sell_spot_rate)\n",
        "\n",
        "\n",
        "# 創建DataFrame\n",
        "exchange_rates_df = pd.DataFrame({\n",
        "'Currency': currency_names,\n",
        "'Buy Cash Rate': buy_cash_rates,\n",
        "'Sell Cash Rate': sell_cash_rates,\n",
        "'Buy Spot Rate': buy_spot_rates,\n",
        "'Sell Spot Rate': sell_cash_rates\n",
        "})\n",
        "\n",
        "print(exchange_rates_df)\n",
        "\n"
      ]
    }
  ]
}