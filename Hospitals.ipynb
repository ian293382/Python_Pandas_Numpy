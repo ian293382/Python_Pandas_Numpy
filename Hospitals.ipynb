{
  "nbformat": 4,
  "nbformat_minor": 0,
  "metadata": {
    "colab": {
      "provenance": [],
      "authorship_tag": "ABX9TyN6l9XpRvS6wbHiNGGQuk2h",
      "include_colab_link": true
    },
    "kernelspec": {
      "name": "python3",
      "display_name": "Python 3"
    },
    "language_info": {
      "name": "python"
    }
  },
  "cells": [
    {
      "cell_type": "markdown",
      "metadata": {
        "id": "view-in-github",
        "colab_type": "text"
      },
      "source": [
        "<a href=\"https://colab.research.google.com/github/ian293382/Python_Pandas_Numpy/blob/main/Hospitals.ipynb\" target=\"_parent\"><img src=\"https://colab.research.google.com/assets/colab-badge.svg\" alt=\"Open In Colab\"/></a>"
      ]
    },
    {
      "cell_type": "code",
      "execution_count": 1,
      "metadata": {
        "colab": {
          "base_uri": "https://localhost:8080/"
        },
        "id": "Kniysvk3dAJw",
        "outputId": "cc861913-7877-4fea-bb12-fa2e7db4599a"
      },
      "outputs": [
        {
          "output_type": "stream",
          "name": "stdout",
          "text": [
            "0       臺北市\n",
            "1       臺北市\n",
            "2       臺北市\n",
            "3       臺北市\n",
            "4       臺北市\n",
            "       ... \n",
            "7020    彰化縣\n",
            "7021    雲林縣\n",
            "7022    嘉義縣\n",
            "7023    屏東縣\n",
            "7024    花蓮縣\n",
            "Name: 縣市, Length: 7025, dtype: object\n",
            "       地址\n",
            "縣市       \n",
            "新北市  1256\n",
            "臺中市   855\n",
            "臺北市   780\n",
            "高雄市   718\n",
            "桃園市   670\n"
          ]
        }
      ],
      "source": [
        "#練習：我們使用來自於社群整理的醫事機構整理的公開資料，該資料包含醫事機構代碼、醫事機構名稱以及地址等資訊。請嘗試用 Pandas 存取來自於檔案來源的資料，並且計算每個縣市的醫事機構數量並且排序前五高縣市為何。\n",
        "\n",
        "# ❏ Sample Input: https://raw.githubusercontent.com/kiang/pharmacies/master/data.csv\n",
        "\n",
        "# ❏ Sample Output: 醫事機構數量前五高的縣市\n",
        "\n",
        "# ❏ Sample Code：\n",
        "\n",
        "import pandas as pd\n",
        "\n",
        "# setp1 外部檔案\n",
        "\n",
        "df = pd.read_csv('https://raw.githubusercontent.com/kiang/pharmacies/master/data.csv')\n",
        "\n",
        "# print(df) # xx 醫事機構 名稱 種類 電話 ... 可以找到縣市\n",
        "\n",
        "# 地址會有台北市的機構\n",
        "\n",
        "print (df['縣市'])\n",
        "\n",
        "grouped = df.groupby(['縣市'], sort=True)\n",
        "\n",
        "result = grouped.agg({'地址': 'count'})\n",
        "\n",
        "# 卡住點在這裡 此時會有地址和數量都計算完成但無法排列要找方法排列 sort_values, ascending 忘記補前五行要加上 head(5)\n",
        "\n",
        "print(result.sort_values(by='地址', ascending=False).head(5))\n",
        "\n",
        "\n",
        "# 地址\n",
        "# 新北市    1264\n",
        "# 臺中市     878\n",
        "# 臺北市     772\n",
        "# 高雄市     723\n",
        "# 桃園市     679\n",
        "# Name: count, dtype: int64"
      ]
    }
  ]
}